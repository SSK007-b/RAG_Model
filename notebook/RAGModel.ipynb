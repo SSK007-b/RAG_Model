{
 "cells": [
  {
   "cell_type": "code",
   "execution_count": 45,
   "id": "9da3201d-57bd-4b4b-aec0-1b7843e533e3",
   "metadata": {},
   "outputs": [
    {
     "data": {
      "text/plain": [
       "True"
      ]
     },
     "execution_count": 45,
     "metadata": {},
     "output_type": "execute_result"
    }
   ],
   "source": [
    "import os, json, faiss\n",
    "import pandas as pd\n",
    "import numpy as np\n",
    "from langchain.vectorstores import FAISS\n",
    "from langchain_google_genai import GoogleGenerativeAIEmbeddings, ChatGoogleGenerativeAI\n",
    "from PyPDF2 import PdfReader\n",
    "from dotenv import load_dotenv\n",
    "load_dotenv()"
   ]
  },
  {
   "cell_type": "code",
   "execution_count": 46,
   "id": "5eb6db69-3a36-422c-a98e-55df72bef116",
   "metadata": {},
   "outputs": [],
   "source": [
    "def readPdf(path):\n",
    "    text = \"\"\n",
    "    reader = PdfReader(path)\n",
    "    for i in range(1, len(reader.pages)):\n",
    "        page = reader.pages[i]\n",
    "        text += page.extract_text()\n",
    "    return str(text)"
   ]
  },
  {
   "cell_type": "code",
   "execution_count": 47,
   "id": "f59133c0-4d58-4864-9b98-8fb6d7cd6554",
   "metadata": {},
   "outputs": [],
   "source": [
    "def generate_embedding(text, key, model):\n",
    "    embeddings = GoogleGenerativeAIEmbeddings(google_api_key=key,model=model)\n",
    "    response = embeddings.embed_query(text)\n",
    "    return response"
   ]
  },
  {
   "cell_type": "code",
   "execution_count": 48,
   "id": "23b6eb10-2998-4737-94c8-25d93fda873d",
   "metadata": {},
   "outputs": [],
   "source": [
    "def store_embeddings(embeddings, index_path=\"vectors.index\"):\n",
    "    embeddings_array = np.array(embeddings, dtype='float32')\n",
    "\n",
    "    if embeddings_array.ndim == 1:\n",
    "        embeddings_array = np.expand_dims(embeddings_array, axis=0)\n",
    "\n",
    "    dimension = embeddings_array.shape[1]\n",
    "\n",
    "    index = faiss.IndexFlatL2(dimension)\n",
    "    index.add(embeddings_array)\n",
    "    faiss.write_index(index, index_path)\n",
    "    print(f\"FAISS index stored locally at {index_path}.\")"
   ]
  },
  {
   "cell_type": "code",
   "execution_count": 49,
   "id": "087b768b-4aec-4cce-9c44-cf79e10a999d",
   "metadata": {},
   "outputs": [],
   "source": [
    "def retrieve_document_from_faiss(query, index_path=\"vectors.index\", documents=None):\n",
    "\n",
    "    index = faiss.read_index(index_path)\n",
    "    query_embedding = generate_embedding(query, key=os.getenv(\"GOOGLE_API\"), model='models/embedding-001')\n",
    "\n",
    "    query_embedding = np.array(query_embedding, dtype='float32').reshape(1, -1)\n",
    "\n",
    "    indices = index.search(query_embedding, 1)\n",
    "    return documents[int(indices[0][0][0])]"
   ]
  },
  {
   "cell_type": "code",
   "execution_count": 50,
   "id": "0bb5357e-9d67-49ad-b87d-9f39d7f9fa24",
   "metadata": {},
   "outputs": [],
   "source": [
    "def generate_response(query, retrieved_data, google_api_key=None, model_name=\"gemini-1.5-flash\"):\n",
    "\n",
    "    if not google_api_key:\n",
    "        google_api_key = os.getenv(\"GOOGLE_API\")\n",
    "    if not google_api_key:\n",
    "        raise ValueError(\"Google API key is required and should be set in environment variables.\")\n",
    "    prompt = (\n",
    "        f\"Context:\\n{retrieved_data}\\n\\n\"\n",
    "        f\"Question: {query}\\n\"\n",
    "        f\"Answer:\"\n",
    "    )\n",
    "    try:\n",
    "        model = ChatGoogleGenerativeAI(google_api_key=google_api_key, model=model_name)\n",
    "        response = model.invoke(prompt)\n",
    "        return response.content\n",
    "    except Exception as e:\n",
    "        raise RuntimeError(f\"Error generating response: {e}\")"
   ]
  },
  {
   "cell_type": "code",
   "execution_count": 51,
   "id": "f836e816-9d86-4b04-a29a-73238ce4190e",
   "metadata": {},
   "outputs": [],
   "source": [
    "path = f\"Data.pdf\"\n",
    "key = os.getenv(\"GOOGLE_API\")\n",
    "model = \"models/embedding-001\""
   ]
  },
  {
   "cell_type": "code",
   "execution_count": 57,
   "id": "263fa9b2-70a1-47ba-b6fb-fb8643d3e060",
   "metadata": {},
   "outputs": [],
   "source": [
    "text = readPdf(path)\n",
    "embeddings = generate_embedding(text,key, model)"
   ]
  },
  {
   "cell_type": "code",
   "execution_count": 58,
   "id": "4bc561c1-8347-4748-86fc-cb3a10fe023d",
   "metadata": {},
   "outputs": [
    {
     "name": "stdout",
     "output_type": "stream",
     "text": [
      "FAISS index stored locally at vectors.index.\n"
     ]
    }
   ],
   "source": [
    "store_embeddings(embeddings)"
   ]
  },
  {
   "cell_type": "code",
   "execution_count": 73,
   "id": "bcb93f14-b967-43bf-a8cb-ff2e4572e4b2",
   "metadata": {},
   "outputs": [],
   "source": [
    "query = \"What is the gross profit for Q3 2024?\"\n",
    "top_chunks = retrieve_document_from_faiss(query, documents=[text])"
   ]
  },
  {
   "cell_type": "code",
   "execution_count": 74,
   "id": "cdba5f19-7295-4636-9b4a-6face17fef76",
   "metadata": {},
   "outputs": [
    {
     "name": "stdout",
     "output_type": "stream",
     "text": [
      "The gross profit for Q3 2024 (three months ended March 31, 2024) is ₹11,175 crore.\n"
     ]
    }
   ],
   "source": [
    "combined_context = \" \".join(top_chunks)\n",
    "response = generate_response(query, combined_context)\n",
    "print(response)"
   ]
  },
  {
   "cell_type": "code",
   "execution_count": 75,
   "id": "a3bc0290-9aa8-4d3e-b609-386096f218c4",
   "metadata": {},
   "outputs": [],
   "source": [
    "query = \"How do the net income and operating expenses compare for Q1 2024?\"\n",
    "top_chunks = retrieve_document_from_faiss(query, documents=[text])\n",
    "# print(top_chunks)"
   ]
  },
  {
   "cell_type": "code",
   "execution_count": 76,
   "id": "29f3a03f-a50f-4210-b322-aec7a4bc3a31",
   "metadata": {},
   "outputs": [
    {
     "name": "stdout",
     "output_type": "stream",
     "text": [
      "For Q1 2024, Infosys Limited and Subsidiaries reported a net profit (profit for the period) of ₹7,975 crore.  Operating expenses totaled ₹30,412 crore.\n"
     ]
    }
   ],
   "source": [
    "combined_context = \" \".join(top_chunks)\n",
    "response = generate_response(query, combined_context)\n",
    "print(response)"
   ]
  },
  {
   "cell_type": "code",
   "execution_count": 77,
   "id": "39d52764-b835-4d97-af4d-105ab39533f6",
   "metadata": {},
   "outputs": [],
   "source": [
    "query = \"What are the total expenses for Q2 2023?\"\n",
    "top_chunks = retrieve_document_from_faiss(query, documents=[text])"
   ]
  },
  {
   "cell_type": "code",
   "execution_count": 78,
   "id": "6faaebf8-69df-4479-9877-5b7bf5f99c0d",
   "metadata": {},
   "outputs": [
    {
     "name": "stdout",
     "output_type": "stream",
     "text": [
      "The provided text does not contain a breakdown of expenses by quarter.  It only shows the total expenses for the year ended March 31, 2023 (₹29,646 crore) and for the three months ended March 31, 2024 (₹30,412 crore).  Therefore, the total expenses for Q2 2023 cannot be determined from this document.\n"
     ]
    }
   ],
   "source": [
    "combined_context = \" \".join(top_chunks)\n",
    "response = generate_response(query, combined_context)\n",
    "print(response)\n"
   ]
  },
  {
   "cell_type": "code",
   "execution_count": 79,
   "id": "1d02a20c-6a9d-4a13-86c1-e4bbe659c23a",
   "metadata": {},
   "outputs": [],
   "source": [
    "query = \"Show the operating margin for the past 6 months\"\n",
    "top_chunks = retrieve_document_from_faiss(query, documents=[text])"
   ]
  },
  {
   "cell_type": "code",
   "execution_count": 80,
   "id": "f403be8b-26cb-4418-9aec-7f47af0c5893",
   "metadata": {},
   "outputs": [
    {
     "name": "stdout",
     "output_type": "stream",
     "text": [
      "The provided text does not contain a 6-month operating margin.  It only shows data for the three months ended March 31, 2024 and 2023, and the full fiscal years ended March 31, 2024 and 2023.  To calculate the operating margin for a six-month period, you would need data for two consecutive three-month periods.\n"
     ]
    }
   ],
   "source": [
    "combined_context = \" \".join(top_chunks)\n",
    "response = generate_response(query, combined_context)\n",
    "print(response)"
   ]
  },
  {
   "cell_type": "code",
   "execution_count": null,
   "id": "a1f8b2da-a070-4c88-ba36-f0c48e28357c",
   "metadata": {},
   "outputs": [],
   "source": []
  }
 ],
 "metadata": {
  "kernelspec": {
   "display_name": "Python 3 (ipykernel)",
   "language": "python",
   "name": "python3"
  },
  "language_info": {
   "codemirror_mode": {
    "name": "ipython",
    "version": 3
   },
   "file_extension": ".py",
   "mimetype": "text/x-python",
   "name": "python",
   "nbconvert_exporter": "python",
   "pygments_lexer": "ipython3",
   "version": "3.12.8"
  }
 },
 "nbformat": 4,
 "nbformat_minor": 5
}
